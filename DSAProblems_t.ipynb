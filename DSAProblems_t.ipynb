{
  "nbformat": 4,
  "nbformat_minor": 0,
  "metadata": {
    "colab": {
      "provenance": [],
      "authorship_tag": "ABX9TyMKi8DC5+3OTuKCis6i2XIi",
      "include_colab_link": true
    },
    "kernelspec": {
      "name": "python3",
      "display_name": "Python 3"
    },
    "language_info": {
      "name": "python"
    }
  },
  "cells": [
    {
      "cell_type": "markdown",
      "metadata": {
        "id": "view-in-github",
        "colab_type": "text"
      },
      "source": [
        "<a href=\"https://colab.research.google.com/github/Abhi-oo1/Practice_Python/blob/main/DSAProblems_t.ipynb\" target=\"_parent\"><img src=\"https://colab.research.google.com/assets/colab-badge.svg\" alt=\"Open In Colab\"/></a>"
      ]
    },
    {
      "cell_type": "code",
      "execution_count": null,
      "metadata": {
        "colab": {
          "base_uri": "https://localhost:8080/"
        },
        "collapsed": true,
        "id": "1JcU1tc1THj8",
        "outputId": "175bb8a7-dbe1-4f73-f164-703e06f2c98d"
      },
      "outputs": [
        {
          "output_type": "stream",
          "name": "stdout",
          "text": [
            "22\n",
            "3 10\n",
            "4 15\n",
            "75\n"
          ]
        }
      ],
      "source": [
        "#N apples with minimum price from 2 shops\n",
        "def min_price(n,m1,p1,m2,p2):\n",
        "  price=9999\n",
        "  for i in range((n//m1)+1):\n",
        "    for j in range((n//m2)+1):\n",
        "      if i*m1+j*m2==n:\n",
        "        if price>i*p1+j*p2:\n",
        "          price=i*p1+j*p2\n",
        "  return price\n",
        "n=int(input())\n",
        "m1,p1=map(int,input().split())\n",
        "m2,p2=map(int,input().split())\n",
        "print(min_price(n,m1,p1,m2,p2))"
      ]
    },
    {
      "cell_type": "code",
      "source": [
        "# N apples with minimum price from 2 shops\n",
        "\n",
        "def min_price(n, m1, p1, m2, p2):\n",
        "    price = float('inf')\n",
        "\n",
        "    max_i = n // m1  # Maximum possible lots from Shop 1\n",
        "    max_j = n // m2  # Maximum possible lots from Shop 2\n",
        "\n",
        "    for i in range(max_i + 1):\n",
        "        remaining_apples = n - (i * m1)\n",
        "\n",
        "        if remaining_apples % m2 == 0:  # Check if remaining apples can be perfectly fulfilled by Shop 2\n",
        "            j = remaining_apples // m2\n",
        "            total_price = i * p1 + j * p2\n",
        "            price = min(price, total_price)\n",
        "\n",
        "    return price if price != float('inf') else -1  # Return -1 if not possible\n",
        "\n",
        "\n",
        "# Example usage:\n",
        "n = int(input())\n",
        "m1, p1 = map(int, input().split())\n",
        "m2, p2 = map(int, input().split())\n",
        "\n",
        "print(min_price(n, m1, p1, m2, p2))\n"
      ],
      "metadata": {
        "colab": {
          "base_uri": "https://localhost:8080/"
        },
        "id": "Qr3RA7TeW4js",
        "outputId": "ce3c5669-36f4-447d-9265-67aca5da3f41"
      },
      "execution_count": null,
      "outputs": [
        {
          "output_type": "stream",
          "name": "stdout",
          "text": [
            "19\n",
            "3 10\n",
            "4 15\n",
            "65\n"
          ]
        }
      ]
    },
    {
      "cell_type": "code",
      "source": [
        "n=int(input())\n",
        "binary=input()\n",
        "max=0\n",
        "count=0\n",
        "for i in binary:\n",
        "  if i=='1':\n",
        "    count+=1\n",
        "    if count>max:\n",
        "      max=count\n",
        "  else:\n",
        "    count=0\n",
        "print(max)\n"
      ],
      "metadata": {
        "colab": {
          "base_uri": "https://localhost:8080/"
        },
        "id": "JipSn3KceygJ",
        "outputId": "55ca052a-4cfc-4cf5-92c5-7214156707a8"
      },
      "execution_count": null,
      "outputs": [
        {
          "output_type": "stream",
          "name": "stdout",
          "text": [
            "6\n",
            "100001\n",
            "1\n"
          ]
        }
      ]
    },
    {
      "cell_type": "code",
      "source": [
        "def max_consecutive(binary):\n",
        "  s0=binary.strip('0')\n",
        "  s1=binary.strip('1')\n",
        "  max_1=0\n",
        "  max_0=0\n",
        "  count=0\n",
        "  for i in s1:\n",
        "    if i=='1':\n",
        "      count+=1\n",
        "      if count>max_1:\n",
        "        max_1=count\n",
        "    else:\n",
        "      count=0\n",
        "  for i in s0:\n",
        "    if i=='0':\n",
        "      count+=1\n",
        "      if count>max_0:\n",
        "        max_0=count\n",
        "    else:\n",
        "      count=0\n",
        "  return max_1 if max_1>max_0 else max_0\n",
        "n=int(input())\n",
        "binary=input()\n",
        "print(max_consecutive(binary))"
      ],
      "metadata": {
        "colab": {
          "base_uri": "https://localhost:8080/"
        },
        "id": "7difb5zjjnFM",
        "outputId": "e0ac5ceb-869e-4d98-c4e0-a06bf187c560"
      },
      "execution_count": null,
      "outputs": [
        {
          "output_type": "stream",
          "name": "stdout",
          "text": [
            "9\n",
            "100010101\n",
            "3\n"
          ]
        }
      ]
    },
    {
      "cell_type": "code",
      "source": [
        "#unique elements\n",
        "n=int(input())\n",
        "arr=list(map(int,input().split()))\n",
        "for i in range(n):\n",
        "  if arr.count(arr[i])==1:\n",
        "    print(arr[i])"
      ],
      "metadata": {
        "colab": {
          "base_uri": "https://localhost:8080/"
        },
        "id": "o6o-2PRPd1F3",
        "outputId": "1834d006-5eef-4f29-d2e0-9f70913d650c"
      },
      "execution_count": null,
      "outputs": [
        {
          "output_type": "stream",
          "name": "stdout",
          "text": [
            "7\n",
            "5 4 10 9 21 4 10\n",
            "5\n",
            "9\n",
            "21\n"
          ]
        }
      ]
    },
    {
      "cell_type": "code",
      "source": [
        "n=int(input())\n",
        "arr=list(map(int,input().split()))\n",
        "uni=0\n",
        "for i in arr:\n",
        "  uni^=i\n",
        "print(uni)"
      ],
      "metadata": {
        "colab": {
          "base_uri": "https://localhost:8080/"
        },
        "id": "Wz6JjPSmiLPr",
        "outputId": "1650e9b7-f6af-4dfd-fb10-e6f5b06c738c"
      },
      "execution_count": null,
      "outputs": [
        {
          "output_type": "stream",
          "name": "stdout",
          "text": [
            "5\n",
            "2 3 3 2 1\n",
            "1\n"
          ]
        }
      ]
    },
    {
      "cell_type": "code",
      "source": [
        "from collections import Counter\n",
        "n = int(input())\n",
        "arr = list(map(int, input().split()))\n",
        "counts = Counter(arr)\n",
        "unique_elements = [num for num, count in counts.items() if count == 1]\n",
        "print(*unique_elements)"
      ],
      "metadata": {
        "colab": {
          "base_uri": "https://localhost:8080/"
        },
        "id": "HL4PwP1vjBAG",
        "outputId": "b5c2ab8a-55b8-46ce-f163-7de6f6799226"
      },
      "execution_count": null,
      "outputs": [
        {
          "output_type": "stream",
          "name": "stdout",
          "text": [
            "7\n",
            "5 4 10 9 21 4 10\n",
            "5 9 21\n"
          ]
        }
      ]
    },
    {
      "cell_type": "code",
      "source": [
        "#printing\n",
        "n=int(input())\n",
        "arr=list(map(int,input().split()))\n",
        "m=int(input())\n",
        "iarr=list(map(int,input().split()))\n",
        "parr=[arr[i] if i<n else -1 for i in iarr]\n",
        "print(*parr)"
      ],
      "metadata": {
        "colab": {
          "base_uri": "https://localhost:8080/"
        },
        "id": "8AyqqDfqj4UF",
        "outputId": "e542b499-044f-4603-ee1d-e821196eb9ff"
      },
      "execution_count": null,
      "outputs": [
        {
          "output_type": "stream",
          "name": "stdout",
          "text": [
            "5\n",
            "100 340 654 300 1000\n",
            "6\n",
            "4 2 6 10 0 1\n",
            "1000 654 -1 -1 100 340\n"
          ]
        }
      ]
    },
    {
      "cell_type": "code",
      "source": [
        "#q\n",
        "n=int(input())\n",
        "arr=list(map(int,input().split()))\n",
        "dict={}\n",
        "for i in arr:\n",
        "  if i in dict:\n",
        "    dict[i]+=1\n",
        "  else:\n",
        "    dict[i]=1\n",
        "print(dict)\n",
        "count= sum(i // 2 for i in dict.values())\n",
        "print(count)"
      ],
      "metadata": {
        "colab": {
          "base_uri": "https://localhost:8080/"
        },
        "id": "pZ8_IiHxmYDP",
        "outputId": "906f3dff-0bcb-4adf-e554-59c757672f31"
      },
      "execution_count": null,
      "outputs": [
        {
          "output_type": "stream",
          "name": "stdout",
          "text": [
            "10\n",
            "4 1 7 4 1 4 4 5 7 1\n",
            "{4: 4, 1: 3, 7: 2, 5: 1}\n",
            "4\n"
          ]
        }
      ]
    },
    {
      "cell_type": "code",
      "source": [
        "n=int(input())\n",
        "arr=list(map(int,input().split()))\n",
        "maxa=arr[0]\n",
        "c=0\n",
        "for i in arr:\n",
        "  c+=i\n",
        "  if c>maxa:\n",
        "    maxa=c\n",
        "print(maxa)\n"
      ],
      "metadata": {
        "colab": {
          "base_uri": "https://localhost:8080/"
        },
        "id": "HmYE1pVUoh47",
        "outputId": "b549dbb0-9263-4990-882d-06b669b5124a"
      },
      "execution_count": null,
      "outputs": [
        {
          "output_type": "stream",
          "name": "stdout",
          "text": [
            "5\n",
            "-5 1 5 0 -7\n",
            "1\n"
          ]
        }
      ]
    },
    {
      "cell_type": "code",
      "source": [
        "#maximum primefactor in given number\n",
        "def max_prime_factor(n):\n",
        "  d={}\n",
        "  for i in range(2,n):\n",
        "    while n%i==0:\n",
        "      if i in d:\n",
        "        d[i]+=1\n",
        "      else:\n",
        "        d[i]=1\n",
        "      n//=i\n",
        "    i+=1 if i==2 else 2\n",
        "  if n>1:\n",
        "    d[n]=1\n",
        "  m_p = max(d.values())\n",
        "  candidates = [k for k, v in d.items() if v == m_p]\n",
        "  print(d)\n",
        "  return max(candidates)\n",
        "n=int(input())\n",
        "print(max_prime_factor(n))"
      ],
      "metadata": {
        "colab": {
          "base_uri": "https://localhost:8080/"
        },
        "id": "yMfMMngvcwFV",
        "outputId": "1a92b5c7-ba49-4ebf-815f-d0c354fcbdd8"
      },
      "execution_count": null,
      "outputs": [
        {
          "output_type": "stream",
          "name": "stdout",
          "text": [
            "20\n",
            "{2: 2, 5: 1}\n",
            "2\n"
          ]
        }
      ]
    },
    {
      "cell_type": "code",
      "source": [
        "def maxi(m,n):\n",
        "  res=0\n",
        "  pri=0\n",
        "  for i in range(n):\n",
        "    for j in range(n):\n",
        "      if i==j:\n",
        "        res+=m[i][j]\n",
        "      if j==n-1-i:\n",
        "        pri+=m[i][j]\n",
        "  print(pri,res)\n",
        "  if res>pri:\n",
        "    return res\n",
        "  else:\n",
        "    return pri\n",
        "n=int(input())\n",
        "matrix=[]\n",
        "for _ in range(n):\n",
        "  l=list(map(int,input().split()))\n",
        "  matrix.append(l)\n",
        "print(maxi(matrix,n))\n",
        "#optimized code\n",
        "# def maxi(matrix, n):\n",
        "#     main_diag = sum(matrix[i][i] for i in range(n))\n",
        "#     anti_diag = sum(matrix[i][n - 1 - i] for i in range(n))\n",
        "\n",
        "#     print(anti_diag, main_diag)\n",
        "#     return max(main_diag, anti_diag)\n",
        "\n",
        "# # Input reading\n",
        "# n = int(input())\n",
        "# matrix = [list(map(int, input().split())) for _ in range(n)]\n",
        "\n",
        "# print(maxi(matrix, n))\n"
      ],
      "metadata": {
        "colab": {
          "base_uri": "https://localhost:8080/"
        },
        "id": "3j8deZO7hLzz",
        "outputId": "0480068a-ae59-4683-cfb5-aa7b991cb461"
      },
      "execution_count": null,
      "outputs": [
        {
          "output_type": "stream",
          "name": "stdout",
          "text": [
            "3\n",
            "10 2 3\n",
            "4 20 5\n",
            "7 2 30\n",
            "30 60\n",
            "60\n"
          ]
        }
      ]
    },
    {
      "cell_type": "code",
      "source": [
        "def diff(m,n):\n",
        "  max1=0\n",
        "  min1=999999\n",
        "  found=False\n",
        "  for i in range(n):\n",
        "    for j in range(n):\n",
        "      if i!=j and j!=n-1-i:\n",
        "        if m[i][j]>max1:\n",
        "          max1=m[i][j]\n",
        "        if m[i][j]<min1:\n",
        "          min1=m[i][j]\n",
        "        found=True\n",
        "  return (max1-min1) if found else \"No Remaining sectors\"\n",
        "n=int(input())\n",
        "m=[list(map(int,input().split())) for _ in range(n)]\n",
        "print(diff(m,n))"
      ],
      "metadata": {
        "colab": {
          "base_uri": "https://localhost:8080/"
        },
        "id": "SdXV0nWrl5Yg",
        "outputId": "c588d5c0-5b04-4063-f5f2-92d5202fe05e"
      },
      "execution_count": null,
      "outputs": [
        {
          "output_type": "stream",
          "name": "stdout",
          "text": [
            "2\n",
            "10 2\n",
            "32 12\n",
            "No Remaining sectors\n"
          ]
        }
      ]
    },
    {
      "cell_type": "code",
      "source": [
        "n=int(input())\n",
        "arr=list(map(int,input().split()))\n",
        "uni=-1\n",
        "for i in arr:\n",
        "  uni^=i\n",
        "print(uni)"
      ],
      "metadata": {
        "colab": {
          "base_uri": "https://localhost:8080/"
        },
        "id": "I-OliWHxnUzY",
        "outputId": "4fa3ef0a-7bcb-4e01-bec5-e0bfab1bc2ce"
      },
      "execution_count": null,
      "outputs": [
        {
          "output_type": "stream",
          "name": "stdout",
          "text": [
            "6\n",
            "1 2 3 2 4 3\n",
            "-6\n"
          ]
        }
      ]
    },
    {
      "cell_type": "code",
      "source": [
        "from collections import Counter\n",
        "n = int(input())\n",
        "arr = list(map(int, input().split()))\n",
        "counts = Counter(arr)\n",
        "unique = [x for x in arr if counts[x] == 1]\n",
        "print(*unique if unique else [-1])"
      ],
      "metadata": {
        "colab": {
          "base_uri": "https://localhost:8080/"
        },
        "id": "DzLvEK_5yc3V",
        "outputId": "3141d93e-ae2d-4fe1-9998-2b104716f307"
      },
      "execution_count": null,
      "outputs": [
        {
          "output_type": "stream",
          "name": "stdout",
          "text": [
            "5\n",
            "5 5 5 5 5\n",
            "-1\n"
          ]
        }
      ]
    }
  ]
}