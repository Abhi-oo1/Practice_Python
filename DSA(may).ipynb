{
  "nbformat": 4,
  "nbformat_minor": 0,
  "metadata": {
    "colab": {
      "provenance": [],
      "authorship_tag": "ABX9TyOboJyBweBI5ZqyhvwISssW",
      "include_colab_link": true
    },
    "kernelspec": {
      "name": "python3",
      "display_name": "Python 3"
    },
    "language_info": {
      "name": "python"
    }
  },
  "cells": [
    {
      "cell_type": "markdown",
      "metadata": {
        "id": "view-in-github",
        "colab_type": "text"
      },
      "source": [
        "<a href=\"https://colab.research.google.com/github/Abhi-oo1/Practice_Python/blob/main/DSA(may).ipynb\" target=\"_parent\"><img src=\"https://colab.research.google.com/assets/colab-badge.svg\" alt=\"Open In Colab\"/></a>"
      ]
    },
    {
      "cell_type": "code",
      "execution_count": null,
      "metadata": {
        "colab": {
          "base_uri": "https://localhost:8080/"
        },
        "id": "EpYx7TYv252l",
        "outputId": "9493bbd9-0649-45c9-85f6-7aa723e5154e"
      },
      "outputs": [
        {
          "output_type": "stream",
          "name": "stdout",
          "text": [
            "Name: Sairam\n",
            "Age: 21\n",
            "Course: CSE\n"
          ]
        }
      ],
      "source": [
        "class stud:\n",
        "  def st_detl(self,name,age,course):\n",
        "    self.name=name\n",
        "    self.age=age\n",
        "    self.course=course\n",
        "  def display(self):\n",
        "    print(\"Name:\",self.name)\n",
        "    print(\"Age:\",self.age)\n",
        "    print(\"Course:\",self.course)\n",
        "s1=stud()\n",
        "s1.st_detl(\"Sairam\",21,\"CSE\")\n",
        "s1.display()"
      ]
    },
    {
      "cell_type": "code",
      "execution_count": null,
      "metadata": {
        "colab": {
          "base_uri": "https://localhost:8080/"
        },
        "outputId": "1958b887-c969-48ac-d161-06062c317307",
        "id": "BUu_wlsn3gw7"
      },
      "outputs": [
        {
          "output_type": "stream",
          "name": "stdout",
          "text": [
            "this is super\n",
            "Name: Abhi\n",
            "<__main__.stud object at 0x7ae6c83c6650>\n"
          ]
        }
      ],
      "source": [
        "class student:\n",
        "  def st_detl(self,name,age,course):\n",
        "    self.name=name\n",
        "    self.age=age\n",
        "    self.course=course\n",
        "  def display(self):\n",
        "    print(\"this is super\")\n",
        "class stud(student):\n",
        "  def __init__(self,name,a ,c):\n",
        "    super().st_detl(name,a,c)\n",
        "  def display(self):\n",
        "    super().display()\n",
        "    print(\"Name:\",self.name)\n",
        "    # print(\"Age:\",self.age)\n",
        "    # print(\"Course:\",self.course)\n",
        "s1=stud(\"Abhi\",21,\"CSE\")\n",
        "s1.display()\n",
        "print(s1)"
      ]
    },
    {
      "cell_type": "code",
      "source": [
        "for i in range(ord('A')//ord('A'),ord('z')-ord('A')):\n",
        "  print(i,end=\" \")"
      ],
      "metadata": {
        "colab": {
          "base_uri": "https://localhost:8080/"
        },
        "id": "9_erzZEJ8Xxf",
        "outputId": "6ce5c593-3a38-45b8-ef79-6cb078d34832"
      },
      "execution_count": null,
      "outputs": [
        {
          "output_type": "stream",
          "name": "stdout",
          "text": [
            "1 2 3 4 5 6 7 8 9 10 11 12 13 14 15 16 17 18 19 20 21 22 23 24 25 26 27 28 29 30 31 32 33 34 35 36 37 38 39 40 41 42 43 44 45 46 47 48 49 50 51 52 53 54 55 56 "
          ]
        }
      ]
    },
    {
      "cell_type": "code",
      "source": [
        "class Node:\n",
        "  def __init__(self,val):\n",
        "    self.val=val\n",
        "    self.next=None\n",
        "\n",
        "class single_LL(Node):\n",
        "  def __init__(self):\n",
        "    self.head=None\n",
        "\n",
        "  def insert(self,val):\n",
        "    nd=Node(val)\n",
        "    if self.head==None:\n",
        "      self.head=nd\n",
        "    else:\n",
        "      temp=self.head\n",
        "      while temp.next is not None:\n",
        "        temp=temp.next\n",
        "      temp.next=nd\n",
        "\n",
        "  def insert_beg(self,val):\n",
        "    nd=Node(val)\n",
        "    if self.head==None:\n",
        "      self.head=nd\n",
        "    else:\n",
        "      temp=self.head\n",
        "      self.head=nd\n",
        "      nd.next=temp\n",
        "\n",
        "  def insert_index(self,val,k):\n",
        "    nd=Node(val)\n",
        "    if k==0:\n",
        "      nd.next=self.head\n",
        "      self.head=nd\n",
        "    else:\n",
        "      temp=self.head\n",
        "      for i in range(k-1):\n",
        "        if temp.next is None:\n",
        "          print(\"index\",k,\" out of range\")\n",
        "          return\n",
        "        temp=temp.next\n",
        "      if temp.next is None:\n",
        "        print(\"index\",k,\" out of range\")\n",
        "        return\n",
        "      nd.next=temp.next\n",
        "      temp.next=nd\n",
        "\n",
        "  def insert_before(self,val,k):\n",
        "    nd=Node(val)\n",
        "    if self.head is None:\n",
        "      print(\"Linked List is Empty\")\n",
        "      return\n",
        "    elif self.head.val==k:\n",
        "      nd.next=self.head\n",
        "      self.head=nd\n",
        "      return\n",
        "    temp=self.head\n",
        "    while temp.next is not None and temp.next.val!=k:\n",
        "      temp=temp.next\n",
        "    if temp.next is None:\n",
        "      print(\"value not found\")\n",
        "      return\n",
        "    nd.next=temp.next\n",
        "    temp.next=nd\n",
        "\n",
        "  def delete_beg(self):\n",
        "    temp=self.head\n",
        "    self.head=temp.next\n",
        "    print(\"deleting at begining:\",temp.val)\n",
        "    del temp\n",
        "\n",
        "  def delete_end(self):\n",
        "    if self.head is None:\n",
        "      print(\"Linked List is Empty\")\n",
        "      return\n",
        "    elif self.head.next is None:\n",
        "      print(\"deleting at end:\",self.head.val)\n",
        "      del self.head\n",
        "      self.head=None\n",
        "      return\n",
        "    temp=self.head\n",
        "    while temp.next is not None and temp.next.next is not None:\n",
        "      temp=temp.next\n",
        "    print(\"deleting at end:\",temp.next.val)\n",
        "    del temp.next\n",
        "    temp.next=None\n",
        "\n",
        "  def delete(self,val):\n",
        "    if self.head is None:\n",
        "      print(\"Linked List is Empty\")\n",
        "      return\n",
        "    elif self.head.val==val:\n",
        "      self.head=self.head.next\n",
        "      return\n",
        "    temp=self.head\n",
        "    while temp.next is not None and temp.next.val!=val:\n",
        "      temp=temp.next\n",
        "    if temp.next is None:\n",
        "      print(\"value not found\")\n",
        "      return\n",
        "    print(\"deleting\",temp.next.val)\n",
        "    temp.next=temp.next.next\n",
        "\n",
        "  def reverse(self):\n",
        "    if self.head is None:\n",
        "      print(\"Linked List is Empty\")\n",
        "      return\n",
        "    elif self.head.next is None:\n",
        "      return\n",
        "    prev=None\n",
        "    curr=self.head\n",
        "    temp=curr.next\n",
        "    while temp is not None:\n",
        "      curr.next=prev\n",
        "      prev=curr\n",
        "      curr=temp\n",
        "      temp=curr.next\n",
        "    curr.next=prev\n",
        "    self.head=curr\n",
        "\n",
        "  def search(self,val):\n",
        "    if self.head is None:\n",
        "      print(\"list is empty\")\n",
        "      return\n",
        "    temp=self.head\n",
        "    c=0\n",
        "    while temp is not None:\n",
        "      if temp.val==val:\n",
        "        print(\"value is at \",c)\n",
        "        return\n",
        "      temp=temp.next\n",
        "      c+=1\n",
        "    print(\"value not found\")\n",
        "  def into_list(self):\n",
        "    temp=self.head\n",
        "    sl=[]\n",
        "    while temp is not None:\n",
        "      sl.append(temp.val)\n",
        "      temp=temp.next\n",
        "    return sl\n",
        "\n",
        "  def display(self):\n",
        "    temp=self.head\n",
        "    while temp is not None:\n",
        "      # print(temp,temp.val,temp.next,end=\" \")\n",
        "      print(temp.val,end=\" \")\n",
        "      temp= temp.next\n",
        "    print()\n",
        "l1=single_LL()\n",
        "# l1.insert(10)\n",
        "# l1.insert_beg(20)\n",
        "# l1.insert_index(30,1)\n",
        "# l1.display()\n",
        "# l1.insert_before(40,60)\n",
        "# l1.display()\n",
        "# l1.search(40)\n",
        "# l1.delete(30)\n",
        "# l1.delete_beg()\n",
        "# l1.delete_end()\n",
        "# l1.reverse()\n",
        "# l1.display()\n",
        "# # l1.display()\n",
        "# print(l1.into_list())\n",
        "# l1.display()\n",
        "print(\"1.Insert\")\n",
        "print(\"2.Insert at begining\")\n",
        "print(\"3.Insert at index\")\n",
        "print(\"4.Delete at begining\")\n",
        "print(\"5.Delete at end\")\n",
        "print(\"6.Delete\")\n",
        "print(\"7.Reverse\")\n",
        "print(\"8.Display\")\n",
        "print(\"9.Search\")\n",
        "print(\"10.Insert before\")\n",
        "print(\"11.Exit\")\n",
        "while True:\n",
        "  ch=int(input(\"Enter your choice:\"))\n",
        "  if ch==1:\n",
        "    val=int(input(\"Enter value:\"))\n",
        "    l1.insert(val)\n",
        "  elif ch==2:\n",
        "    val=int(input(\"Enter value:\"))\n",
        "    l1.insert_beg(val)\n",
        "  elif ch==3:\n",
        "    val=int(input(\"Enter value:\"))\n",
        "    k=int(input(\"Enter index:\"))\n",
        "    l1.insert_index(val,k)\n",
        "  elif ch==4:\n",
        "    l1.delete_beg()\n",
        "  elif ch==5:\n",
        "    l1.delete_end()\n",
        "  elif ch==6:\n",
        "    val=int(input(\"Enter value:\"))\n",
        "    l1.delete(val)\n",
        "  elif ch==7:\n",
        "    l1.reverse()\n",
        "  elif ch==8:\n",
        "    l1.display()\n",
        "  elif ch==9:\n",
        "    val=int(input(\"enter\"))\n",
        "    l1.search(val)\n",
        "  elif ch==10:\n",
        "    val=int(input(\"Enter value:\"))\n",
        "    k=int(input(\"Enter index:\"))\n",
        "    l1.insert_before(val,k)\n",
        "  elif ch==11:\n",
        "    break\n",
        "  else:\n",
        "    print(\"Invalid choice\")"
      ],
      "metadata": {
        "colab": {
          "base_uri": "https://localhost:8080/"
        },
        "id": "dKZaGi1a_SqS",
        "outputId": "76abbf02-7a8c-4159-af62-8fc68b4c5f3e"
      },
      "execution_count": null,
      "outputs": [
        {
          "name": "stdout",
          "output_type": "stream",
          "text": [
            "1.Insert\n",
            "2.Insert at begining\n",
            "3.Insert at index\n",
            "4.Delete at begining\n",
            "5.Delete at end\n",
            "6.Delete\n",
            "7.Reverse\n",
            "8.Display\n",
            "9.Search\n",
            "10.Insert before\n",
            "11.Exit\n",
            "Enter your choice:1\n",
            "Enter value:25\n",
            "Enter your choice:10\n",
            "Enter value:19\n",
            "Enter index:25\n",
            "Enter your choice:8\n",
            "19 25 \n",
            "Enter your choice:11\n"
          ]
        }
      ]
    },
    {
      "cell_type": "code",
      "source": [
        "n=\"\"\n",
        "print(hex(id(n)))"
      ],
      "metadata": {
        "colab": {
          "base_uri": "https://localhost:8080/"
        },
        "id": "uP1SGxFdHIT0",
        "outputId": "590873f1-f556-4b31-fa96-eab1232a402c"
      },
      "execution_count": null,
      "outputs": [
        {
          "output_type": "stream",
          "name": "stdout",
          "text": [
            "0xa45f40\n"
          ]
        }
      ]
    },
    {
      "cell_type": "code",
      "source": [
        "class Node:\n",
        "  def __init__(self,val):\n",
        "    self.val=val\n",
        "    self.prev=None\n",
        "    self.next=None\n",
        "class double_LL(Node):\n",
        "  def __init__(self):\n",
        "    self.head=None\n",
        "\n",
        "  def insert_end(self,val):\n",
        "    nd=Node(val)\n",
        "    if self.head is None:\n",
        "      self.head=nd\n",
        "      return\n",
        "    elif self.head.next is None:\n",
        "      self.head.next=nd\n",
        "      nd.prev=self.head\n",
        "      return\n",
        "    temp=self.head\n",
        "    while temp.next is not None:\n",
        "      temp=temp.next\n",
        "    nd.next=temp.next\n",
        "    temp.next.prev=nd\n",
        "    temp.next=nd\n",
        "    nd.prev=temp\n",
        "\n",
        "  def insert_beg(self,val):\n",
        "    nd=Node(val)\n",
        "    if self.head is None:\n",
        "      self.head=nd\n",
        "      return\n",
        "    nd.next=self.head\n",
        "    self.head.prev=nd\n",
        "    self.head=nd\n",
        "    return\n",
        "\n",
        "  def insert_index(self,val,k):\n",
        "    nd=Node(val)\n",
        "    if k==0:\n",
        "\n",
        "  def display(self):\n",
        "    temp=self.head\n",
        "    while temp is not None:\n",
        "      print(temp.val,end=\" \")\n",
        "      temp=temp.next\n",
        "    print()\n",
        "l1=double_LL()\n",
        "l1.insert_end(10)\n",
        "l1.insert_end(20)\n",
        "l1.display()"
      ],
      "metadata": {
        "colab": {
          "base_uri": "https://localhost:8080/"
        },
        "id": "pe1Osqnt_EUK",
        "outputId": "d39667c3-7023-4d0b-a2c3-3904b8aac5cf"
      },
      "execution_count": null,
      "outputs": [
        {
          "output_type": "stream",
          "name": "stdout",
          "text": [
            "10 20 \n"
          ]
        }
      ]
    },
    {
      "cell_type": "code",
      "source": [
        "class Node:\n",
        "  def __init__(self,val):\n",
        "    self.val=val\n",
        "    self.next=None\n",
        "\n",
        "class single_LL(Node):\n",
        "  def __init__(self):\n",
        "    self.head=None\n",
        "  def insert(self,val):\n",
        "    nd=Node(val)\n",
        "    if self.head==None:\n",
        "      self.head=nd\n",
        "    else:\n",
        "      temp=self.head\n",
        "      while temp.next is not None:\n",
        "        temp=temp.next\n",
        "      temp.next=nd\n",
        "  def display(self):\n",
        "    temp=self.head\n",
        "    while temp is not None:\n",
        "      print(temp.val,end=\" \")\n",
        "      temp=temp.next\n",
        "    print()\n",
        "class sol:\n",
        "  def solve(self,n1,n2):\n",
        "    temp1=n1\n",
        "    temp2=n2\n",
        "    temp=Node(0)\n",
        "    curr=temp\n",
        "    total=0\n",
        "    carry=0\n",
        "    while temp1:\n",
        "      total=temp1.val+temp2.val+carry\n",
        "      temp1=temp1.next\n",
        "      temp2=temp2.next\n",
        "      carry=total//10\n",
        "      curr.next=Node(total%10)\n",
        "      curr=curr.next\n",
        "    if carry:\n",
        "      curr.next=Node(carry)\n",
        "    return temp.next\n",
        "\n",
        "  def reverse(self,head):\n",
        "    if head is None:\n",
        "      print(\"Linked List is Empty\")\n",
        "      return\n",
        "    elif head.next is None:\n",
        "      return\n",
        "    prev=None\n",
        "    curr=head\n",
        "    temp=curr.next\n",
        "    while temp is not None:\n",
        "      curr.next=prev\n",
        "      prev=curr\n",
        "      curr=temp\n",
        "      temp=curr.next\n",
        "    curr.next=prev\n",
        "    head=curr\n",
        "    return head\n",
        "\n",
        "  def display(self,head):\n",
        "    temp=head\n",
        "    while temp is not None:\n",
        "      print(temp.val,end=\" \")\n",
        "      temp=temp.next\n",
        "    print()\n",
        "\n",
        "n1=single_LL()\n",
        "n2=single_LL()\n",
        "num1=int(input())\n",
        "num2=int(input())\n",
        "while num1>0 or num2>0:\n",
        "  n1.insert(num1%10)\n",
        "  num1=num1//10\n",
        "  n2.insert(num2%10)\n",
        "  num2=num2//10\n",
        "n1.display()\n",
        "n2.display()\n",
        "s=sol()\n",
        "rev=s.solve(n1.head,n2.head)\n",
        "s.display(rev)\n",
        "res=s.reverse(rev)\n",
        "print(\"Result:\")\n",
        "s.display(res)"
      ],
      "metadata": {
        "colab": {
          "base_uri": "https://localhost:8080/"
        },
        "id": "TnvozMjTxgu-",
        "outputId": "bb7d3597-1f4f-4458-9c21-7c0b817a8469"
      },
      "execution_count": null,
      "outputs": [
        {
          "output_type": "stream",
          "name": "stdout",
          "text": [
            "423\n",
            "179\n",
            "3 2 4 \n",
            "9 7 1 \n",
            "2 0 6 \n",
            "Result:\n",
            "6 0 2 \n"
          ]
        }
      ]
    },
    {
      "cell_type": "code",
      "source": [
        "class Node:\n",
        "  def __init__(self,val):\n",
        "    self.val=val\n",
        "    self.next=None\n",
        "\n",
        "class circular_single_LL(Node):\n",
        "  def __init__(self):\n",
        "    self.head=None\n",
        "\n",
        "  def insert(self,val):\n",
        "    nd=Node(val)\n",
        "    if self.head==None:\n",
        "      self.head=nd\n",
        "      nd.next=self.head\n",
        "    else:\n",
        "      temp=self.head\n",
        "      while temp.next is not self.head:\n",
        "        temp=temp.next\n",
        "      temp.next=nd\n",
        "      nd.next=self.head\n",
        "\n",
        "  def insert_beg(self,val):\n",
        "    nd=Node(val)\n",
        "    if self.head==None:\n",
        "      self.head=nd\n",
        "      nd.next=self.head\n",
        "    else:\n",
        "      temp=self.head\n",
        "      while temp.next is not self.head:\n",
        "        temp=temp.next\n",
        "      temp.next=nd\n",
        "      nd.next=self.head\n",
        "      self.head=nd\n",
        "\n",
        "  def insert_index(self,val,k):\n",
        "    if k==0:\n",
        "      self.insert_beg(val)\n",
        "      return\n",
        "    else:\n",
        "      nd=Node(val)\n",
        "      temp=self.head\n",
        "      for i in range(k-1):\n",
        "        if temp.next is self.head:\n",
        "          print(\"index\",k,\" out of range\")\n",
        "          return\n",
        "        temp=temp.next\n",
        "      nd.next=temp.next\n",
        "      temp.next=nd\n",
        "\n",
        "  def insert_before(self,val,k):\n",
        "    if self.head is None:\n",
        "      print(\"Linked List is Empty\")\n",
        "      return\n",
        "    elif self.head.val==k:\n",
        "      self.insert_beg(val)\n",
        "      return\n",
        "    nd=Node(val)\n",
        "    temp=self.head\n",
        "    while temp.next is not self.head and temp.next.val!=k:\n",
        "      temp=temp.next\n",
        "    if temp.next is self.head:\n",
        "      print(\"value not found\")\n",
        "      return\n",
        "    nd.next=temp.next\n",
        "    temp.next=nd\n",
        "\n",
        "  def delete_beg(self):\n",
        "    if self.head is None:\n",
        "      print(\"Linked List is Empty\")\n",
        "      return\n",
        "    elif self.head.next is self.head:\n",
        "      print(\"deleting at begining:\",self.head.val)\n",
        "      del self.head\n",
        "      self.head=None\n",
        "      return\n",
        "    temp=self.head\n",
        "    self.head=temp.next\n",
        "    print(\"deleting at begining:\",temp.val)\n",
        "    del temp\n",
        "\n",
        "  def delete_end(self):\n",
        "    if self.head is None:\n",
        "      print(\"Linked List is Empty\")\n",
        "      return\n",
        "    elif self.head.next is self.head:\n",
        "      print(\"deleting at end:\",self.head.val)\n",
        "      del self.head\n",
        "      self.head=None\n",
        "      return\n",
        "    temp=self.head\n",
        "    while temp.next is not self.head and temp.next.next is not self.head:\n",
        "      temp=temp.next\n",
        "    print(\"deleting at end:\",temp.next.val)\n",
        "    del temp.next\n",
        "    temp.next=self.head\n",
        "\n",
        "  def delete(self,val):\n",
        "    if self.head is None:\n",
        "      print(\"Linked List is Empty\")\n",
        "      return\n",
        "    elif self.head.val==val:\n",
        "      self.head=self.head.next\n",
        "      return\n",
        "    temp=self.head\n",
        "    while temp.next is not self.head and temp.next.val!=val:\n",
        "      temp=temp.next\n",
        "    if temp.next is self.head:\n",
        "      print(\"value not found\")\n",
        "      return\n",
        "    print(\"deleting\",temp.next.val)\n",
        "    temp.next=temp.next.next\n",
        "\n",
        "  def reverse(self):\n",
        "    if self.head is None:\n",
        "      print(\"Linked List is Empty\")\n",
        "      return\n",
        "    elif self.head.next is self.head:\n",
        "      return\n",
        "    prev=None\n",
        "    curr=self.head\n",
        "    temp=curr.next\n",
        "    while temp is not self.head:\n",
        "      curr.next=prev\n",
        "      prev=curr\n",
        "      curr=temp\n",
        "      temp=curr.next\n",
        "    curr.next=prev\n",
        "    self.head=curr\n",
        "\n",
        "  def search(self,val):\n",
        "    if self.head is None:\n",
        "      print(\"list is empty\")\n",
        "      return\n",
        "    temp=self.head\n",
        "    c=0\n",
        "    while temp.next is not self.head:\n",
        "      if temp.val==val:\n",
        "        print(\"value is at \",c)\n",
        "        return\n",
        "      temp=temp.next\n",
        "      c+=1\n",
        "    print(\"value not found\")\n",
        "  def into_list(self):\n",
        "    temp=self.head\n",
        "    sl=[]\n",
        "    while temp.next is not self.head:\n",
        "      sl.append(temp.val)\n",
        "      temp=temp.next\n",
        "    return sl\n",
        "\n",
        "  def display(self):\n",
        "    if self.head is None:\n",
        "      print(\"Linked List is Empty\")\n",
        "      return\n",
        "    else:\n",
        "      temp=self.head\n",
        "      while temp.next is not self.head:\n",
        "        print(temp.val,end=\" \")\n",
        "        temp= temp.next\n",
        "      print(temp.val)\n",
        "l1=circular_single_LL()\n",
        "# l1.insert(10)\n",
        "# l1.insert_beg(20)\n",
        "# l1.insert_index(30,1)\n",
        "# l1.display()\n",
        "# l1.insert_before(40,60)\n",
        "# l1.display()\n",
        "# l1.search(40)\n",
        "# l1.delete(30)\n",
        "# l1.delete_beg()\n",
        "# l1.delete_end()\n",
        "# l1.reverse()\n",
        "# l1.display()\n",
        "# # l1.display()\n",
        "# print(l1.into_list())\n",
        "# l1.display()\n",
        "print(\"1.Insert\")\n",
        "print(\"2.Insert at begining\")\n",
        "print(\"3.Insert at index\")\n",
        "print(\"4.Delete at begining\")\n",
        "print(\"5.Delete at end\")\n",
        "print(\"6.Delete\")\n",
        "print(\"7.Reverse\")\n",
        "print(\"8.Display\")\n",
        "print(\"9.Search\")\n",
        "print(\"10.Insert before\")\n",
        "print(\"11.Exit\")\n",
        "while True:\n",
        "  ch=int(input(\"Enter your choice:\"))\n",
        "  if ch==1:\n",
        "    val=int(input(\"Enter value:\"))\n",
        "    l1.insert(val)\n",
        "  elif ch==2:\n",
        "    val=int(input(\"Enter value:\"))\n",
        "    l1.insert_beg(val)\n",
        "  elif ch==3:\n",
        "    val=int(input(\"Enter value:\"))\n",
        "    k=int(input(\"Enter index:\"))\n",
        "    l1.insert_index(val,k)\n",
        "  elif ch==4:\n",
        "    l1.delete_beg()\n",
        "  elif ch==5:\n",
        "    l1.delete_end()\n",
        "  elif ch==6:\n",
        "    val=int(input(\"Enter value:\"))\n",
        "    l1.delete(val)\n",
        "  elif ch==7:\n",
        "    l1.reverse()\n",
        "  elif ch==8:\n",
        "    l1.display()\n",
        "  elif ch==9:\n",
        "    val=int(input(\"enter\"))\n",
        "    l1.search(val)\n",
        "  elif ch==10:\n",
        "    val=int(input(\"Enter value:\"))\n",
        "    k=int(input(\"Enter index:\"))\n",
        "    l1.insert_before(val,k)\n",
        "  elif ch==11:\n",
        "    break\n",
        "  else:\n",
        "    print(\"Invalid choice\")"
      ],
      "metadata": {
        "id": "Xhu8rBcG-hDE"
      },
      "execution_count": null,
      "outputs": []
    },
    {
      "cell_type": "code",
      "source": [
        "#seperating even odd places list and adding even at the end\n"
      ],
      "metadata": {
        "id": "EXFZmaT9MbE-"
      },
      "execution_count": null,
      "outputs": []
    },
    {
      "cell_type": "code",
      "source": [
        "import math\n",
        "#non prime positions\n",
        "class Node:\n",
        "  def __init__(self,val):\n",
        "    self.val=val\n",
        "    self.next=None\n",
        "\n",
        "class single_LL(Node):\n",
        "  def __init__(self):\n",
        "    self.head=None\n",
        "  def insert(self,val):\n",
        "    nd=Node(val)\n",
        "    if self.head==None:\n",
        "      self.head=nd\n",
        "    else:\n",
        "      temp=self.head\n",
        "      while temp.next is not None:\n",
        "        temp=temp.next\n",
        "      temp.next=nd\n",
        "  def isprime(self, n):\n",
        "    if n < 2:\n",
        "      return False\n",
        "    for i in range(2, int(math.sqrt(n)) + 1):\n",
        "      if n % i == 0:\n",
        "        return False\n",
        "    return True\n",
        "  def nonprime(self):\n",
        "    i=1\n",
        "    temp=self.head\n",
        "    while temp:\n",
        "      if not self.isprime(i):\n",
        "        print(temp.val)\n",
        "      temp=temp.next\n",
        "      i+=1\n",
        "  def display(self):\n",
        "    temp=self.head\n",
        "    while temp is not None:\n",
        "      print(temp.val,end=\" \")\n",
        "      temp=temp.next\n",
        "    print()\n",
        "l1=single_LL()\n",
        "l=list(map(int,input().split()))\n",
        "for i in l:\n",
        "    l1.insert(i)\n",
        "l1.nonprime()"
      ],
      "metadata": {
        "colab": {
          "base_uri": "https://localhost:8080/"
        },
        "id": "iNJtEXdGQxQF",
        "outputId": "ddbe4263-e2f2-4561-f75f-4d3b547bbf8d"
      },
      "execution_count": null,
      "outputs": [
        {
          "output_type": "stream",
          "name": "stdout",
          "text": [
            "1 2 3 4 5 6 7 8 9\n",
            "1\n",
            "4\n",
            "6\n",
            "8\n",
            "9\n"
          ]
        }
      ]
    },
    {
      "cell_type": "code",
      "source": [
        "#generating binary numbers\n",
        "def binary(n):\n",
        "  que=[]\n",
        "  que.append('1')\n",
        "  for i in range(n):\n",
        "    temp=que.pop(0)\n",
        "    que.append(temp+'0')\n",
        "    que.append(temp+'1')\n",
        "  print(temp)\n",
        "n=int(input())\n",
        "binary(n)"
      ],
      "metadata": {
        "colab": {
          "base_uri": "https://localhost:8080/"
        },
        "id": "YCpJNE08VpKY",
        "outputId": "7f65a457-295a-4915-aa9a-2634917791d3"
      },
      "execution_count": null,
      "outputs": [
        {
          "output_type": "stream",
          "name": "stdout",
          "text": [
            "10\n",
            "1010\n"
          ]
        }
      ]
    },
    {
      "cell_type": "code",
      "source": [
        "#interleaving queue elements\n",
        "#1 2 3 4 5 6 --- 1 4 2 5 3 6\n",
        "que=list(map(int,input().split()))\n",
        "stk=[]\n",
        "nq=[]\n",
        "for i in range(len(que)//2):\n",
        "  stk.append(que.pop(0))\n",
        "while stk:\n",
        "  que.append(stk.pop())\n",
        "print(que)\n",
        "for i in range(len(que)//2):\n",
        "  que.append(que.pop(0))\n",
        "print(que)\n",
        "for i in range(len(que)//2):\n",
        "  stk.append(que.pop(0))\n",
        "print(stk)\n",
        "while stk or que:\n",
        "  if stk:\n",
        "    nq.append(stk.pop())\n",
        "  if que:\n",
        "    nq.append(que.pop(0))\n",
        "print(nq)"
      ],
      "metadata": {
        "colab": {
          "base_uri": "https://localhost:8080/"
        },
        "id": "NrPBzexOoP1k",
        "outputId": "5b95919c-3bc8-4442-ed79-1e5b6422ec55"
      },
      "execution_count": null,
      "outputs": [
        {
          "output_type": "stream",
          "name": "stdout",
          "text": [
            "1 2 3 4 5 6\n",
            "[4, 5, 6, 3, 2, 1]\n",
            "[3, 2, 1, 4, 5, 6]\n",
            "[3, 2, 1]\n",
            "[1, 4, 2, 5, 3, 6]\n"
          ]
        }
      ]
    },
    {
      "cell_type": "markdown",
      "source": [
        "27-05 ---------------------------------------------------\n"
      ],
      "metadata": {
        "id": "g2ixBqgqN23D"
      }
    },
    {
      "cell_type": "code",
      "source": [
        "#no of 1 in number binary\n",
        "n=12\n",
        "c=0\n",
        "while n!=0:\n",
        "  c+=(n&1)\n",
        "  n=n>>1\n",
        "print(c)"
      ],
      "metadata": {
        "colab": {
          "base_uri": "https://localhost:8080/"
        },
        "id": "Aiy29WblEa40",
        "outputId": "fd5d0e4d-c965-4fb4-bbe1-6edbfdbd25d4"
      },
      "execution_count": null,
      "outputs": [
        {
          "output_type": "stream",
          "name": "stdout",
          "text": [
            "2\n"
          ]
        }
      ]
    },
    {
      "cell_type": "code",
      "source": [
        "#reverse the binary code\n",
        "n=13\n",
        "r=0\n",
        "for _ in range(4):\n",
        "  r=(r<<1)|(n&1)\n",
        "  n=n>>1\n",
        "print(r)"
      ],
      "metadata": {
        "colab": {
          "base_uri": "https://localhost:8080/"
        },
        "id": "t0t_cWUvMK3N",
        "outputId": "c7d84d50-f2d4-4032-a841-c5eddddaa251"
      },
      "execution_count": null,
      "outputs": [
        {
          "output_type": "stream",
          "name": "stdout",
          "text": [
            "11\n"
          ]
        }
      ]
    },
    {
      "cell_type": "code",
      "source": [
        "#powers of 2\n",
        "n=16\n",
        "if n<=0:\n",
        "  print(\"\")\n",
        "if(n &(n-1))==0:\n",
        "  print(\"true\")\n",
        "else:\n",
        "  print(\"False\")"
      ],
      "metadata": {
        "colab": {
          "base_uri": "https://localhost:8080/"
        },
        "id": "26PJpxLaMsEh",
        "outputId": "8b064193-3ff7-419a-c1e6-8f49fec7b4c4"
      },
      "execution_count": null,
      "outputs": [
        {
          "output_type": "stream",
          "name": "stdout",
          "text": [
            "true\n"
          ]
        }
      ]
    },
    {
      "cell_type": "code",
      "source": [
        "#bitwise and for all numbers in range\n",
        "l=1\n",
        "r=7\n",
        "s=0\n",
        "while l<r:\n",
        "  l=l>>1\n",
        "  r=r>>1\n",
        "  s+=1\n",
        "print(l<<s)"
      ],
      "metadata": {
        "colab": {
          "base_uri": "https://localhost:8080/"
        },
        "id": "LXKHyh5MOUPt",
        "outputId": "86bfdac2-1ccc-4dad-ce7e-bf56a7f10f57"
      },
      "execution_count": null,
      "outputs": [
        {
          "output_type": "stream",
          "name": "stdout",
          "text": [
            "0\n"
          ]
        }
      ]
    },
    {
      "cell_type": "code",
      "source": [
        "n=5\n",
        "o=[0]*(n+1)\n",
        "for i in range(1,n+1):\n",
        "  o[i]=o[i>>1]+(i&1)\n",
        "print(o)"
      ],
      "metadata": {
        "colab": {
          "base_uri": "https://localhost:8080/"
        },
        "id": "Yu6QEvm6V3zp",
        "outputId": "eee66844-fed8-49b5-f85b-c5ea15a40dca"
      },
      "execution_count": null,
      "outputs": [
        {
          "output_type": "stream",
          "name": "stdout",
          "text": [
            "[0, 1, 1, 2, 1, 2]\n"
          ]
        }
      ]
    },
    {
      "cell_type": "code",
      "source": [
        "#missing numbers\n",
        "l=[0,1,2,4,5]\n",
        "r=len(l)\n",
        "for i in range(len(l)):\n",
        "  r=r^i^l[i]\n",
        "print(r)"
      ],
      "metadata": {
        "colab": {
          "base_uri": "https://localhost:8080/"
        },
        "id": "RaRkmUQ8ZcZB",
        "outputId": "c20eb27a-1d7e-442a-db81-881dfdccd431"
      },
      "execution_count": null,
      "outputs": [
        {
          "output_type": "stream",
          "name": "stdout",
          "text": [
            "3\n"
          ]
        }
      ]
    },
    {
      "cell_type": "code",
      "source": [
        "#single number\n",
        "l=[1,2,3,2,1]\n",
        "a,b=0,0\n",
        "for i in l:\n",
        "  a=(a^i)&~b\n",
        "  b=(b^i)&~a\n",
        "print(b)"
      ],
      "metadata": {
        "colab": {
          "base_uri": "https://localhost:8080/"
        },
        "id": "UBIDpbvRjhvZ",
        "outputId": "3f945602-5314-4af5-880f-8e69be6c7019"
      },
      "execution_count": null,
      "outputs": [
        {
          "output_type": "stream",
          "name": "stdout",
          "text": [
            "0\n"
          ]
        }
      ]
    },
    {
      "cell_type": "code",
      "source": [
        "#factorial of a number\n",
        "def factorial(n):\n",
        "  if n==0:\n",
        "    return 1\n",
        "  return n*factorial(n-1)\n",
        "print(factorial(5))"
      ],
      "metadata": {
        "colab": {
          "base_uri": "https://localhost:8080/"
        },
        "id": "nWnXeAqr1SfK",
        "outputId": "3dc35483-97f8-4643-e896-ecf78af6695f"
      },
      "execution_count": null,
      "outputs": [
        {
          "output_type": "stream",
          "name": "stdout",
          "text": [
            "120\n"
          ]
        }
      ]
    },
    {
      "cell_type": "code",
      "source": [
        "def sumd(n):\n",
        "  if n==0:\n",
        "    return 0\n",
        "  return n%10+sumd(n//10)\n",
        "print(sumd((abs(-193))))"
      ],
      "metadata": {
        "colab": {
          "base_uri": "https://localhost:8080/"
        },
        "id": "d0Vda9rI2DBI",
        "outputId": "c1db2c9a-6789-4fbf-fe1c-3c3eae349bea"
      },
      "execution_count": null,
      "outputs": [
        {
          "output_type": "stream",
          "name": "stdout",
          "text": [
            "13\n"
          ]
        }
      ]
    },
    {
      "cell_type": "code",
      "source": [
        "def reverse(n,s):\n",
        "  if n==0:\n",
        "    return s\n",
        "  return reverse(n//10,s*10+n%10)\n",
        "print(reverse(123,0))"
      ],
      "metadata": {
        "colab": {
          "base_uri": "https://localhost:8080/"
        },
        "id": "T-bMSb-c3wcd",
        "outputId": "f2287b62-4256-4451-fce4-a4b2b0266256"
      },
      "execution_count": null,
      "outputs": [
        {
          "output_type": "stream",
          "name": "stdout",
          "text": [
            "321\n"
          ]
        }
      ]
    },
    {
      "cell_type": "code",
      "source": [
        "def add(n,m):\n",
        "  if m==0:\n",
        "    return n\n",
        "  return add(n-1,m-1)\n",
        "print(add(20,28))"
      ],
      "metadata": {
        "colab": {
          "base_uri": "https://localhost:8080/"
        },
        "id": "Xcf-gw-A8KyD",
        "outputId": "dc752940-2b93-44e2-af38-1481c2ca0509"
      },
      "execution_count": null,
      "outputs": [
        {
          "output_type": "stream",
          "name": "stdout",
          "text": [
            "-8\n"
          ]
        }
      ]
    },
    {
      "cell_type": "code",
      "source": [
        "def climb(n):\n",
        "  if n<3:\n",
        "    return n\n",
        "  return climb(n-1)+climb(n-2)\n",
        "print(climb(5))"
      ],
      "metadata": {
        "colab": {
          "base_uri": "https://localhost:8080/"
        },
        "id": "1__wU6v-_bPe",
        "outputId": "ff90f43e-aae4-4936-c923-86987b1cbdc3"
      },
      "execution_count": null,
      "outputs": [
        {
          "output_type": "stream",
          "name": "stdout",
          "text": [
            "8\n"
          ]
        }
      ]
    },
    {
      "cell_type": "code",
      "source": [
        "def climb_ways(n):\n",
        "    result = []\n",
        "\n",
        "    def backtrack(current, remaining):\n",
        "        if remaining == 0:\n",
        "            result.append(current[:])\n",
        "            return\n",
        "        if remaining >= 1:\n",
        "            current.append(1)\n",
        "            backtrack(current, remaining - 1)\n",
        "            current.pop()\n",
        "        if remaining >= 2:\n",
        "            current.append(2)\n",
        "            backtrack(current, remaining - 2)\n",
        "            current.pop()\n",
        "\n",
        "    backtrack([], n)\n",
        "    return result\n",
        "print(climb_ways(5))"
      ],
      "metadata": {
        "colab": {
          "base_uri": "https://localhost:8080/"
        },
        "id": "T4hCBSZ_DyrZ",
        "outputId": "60e2d362-5f67-4983-c384-c2a6465dadc7"
      },
      "execution_count": null,
      "outputs": [
        {
          "output_type": "stream",
          "name": "stdout",
          "text": [
            "[[1, 1, 1, 1, 1], [1, 1, 1, 2], [1, 1, 2, 1], [1, 2, 1, 1], [1, 2, 2], [2, 1, 1, 1], [2, 1, 2], [2, 2, 1]]\n"
          ]
        }
      ]
    },
    {
      "cell_type": "code",
      "source": [
        "def climb_ways(n, path=\"\"):\n",
        "    if n == 0:\n",
        "        print(path.strip(\"....\"))\n",
        "        return\n",
        "    if n >= 1:\n",
        "        climb_ways(n - 1, path + \"1 \")\n",
        "    if n >= 2:\n",
        "        climb_ways(n - 2, path + \"2 \")\n",
        "print(climb_ways(5))"
      ],
      "metadata": {
        "colab": {
          "base_uri": "https://localhost:8080/"
        },
        "id": "7chCtA9VGO1p",
        "outputId": "5e7f0f5d-ba24-4940-88ab-6abcc57c1536"
      },
      "execution_count": null,
      "outputs": [
        {
          "output_type": "stream",
          "name": "stdout",
          "text": [
            "1 1 1 1 1 \n",
            "1 1 1 2 \n",
            "1 1 2 1 \n",
            "1 2 1 1 \n",
            "1 2 2 \n",
            "2 1 1 1 \n",
            "2 1 2 \n",
            "2 2 1 \n",
            "None\n"
          ]
        }
      ]
    },
    {
      "cell_type": "code",
      "source": [
        "def k_th(n,k):\n",
        "  if n==1:\n",
        "    return 0\n",
        "  m=2**(n-1)//2\n",
        "  if k<=m:\n",
        "    return k_th(n-1,k)\n",
        "  else:\n",
        "    return 1-k_th(n-1,k-m)\n",
        "for i in range(1,9):\n",
        "  print(k_th(4, i))\n"
      ],
      "metadata": {
        "colab": {
          "base_uri": "https://localhost:8080/"
        },
        "id": "2zwNwxJyIiUI",
        "outputId": "d957a033-5de4-4e30-b7c2-3723cf74a31e"
      },
      "execution_count": null,
      "outputs": [
        {
          "output_type": "stream",
          "name": "stdout",
          "text": [
            "0\n",
            "1\n",
            "1\n",
            "0\n",
            "1\n",
            "0\n",
            "0\n",
            "1\n"
          ]
        }
      ]
    },
    {
      "cell_type": "markdown",
      "source": [
        "28-05------------------------------------------------------------------------------------\n"
      ],
      "metadata": {
        "id": "H7iGM5-0N_W3"
      }
    },
    {
      "cell_type": "code",
      "source": [
        "#linear search\n",
        "a=[12,34,53,13,45]\n",
        "k=90\n",
        "# i=0\n",
        "# while i<len(a):\n",
        "#   if a[i]==k:\n",
        "#     break\n",
        "#   i+=1\n",
        "# print(i)\n",
        "\n",
        "#using recursion\n",
        "def ls(a,n,k):\n",
        "  if n==0:\n",
        "    return -1\n",
        "  if a[n - 1] == k:\n",
        "    return n - 1\n",
        "  return ls(a,n-1,k)\n",
        "print(ls(a,len(a),k))"
      ],
      "metadata": {
        "colab": {
          "base_uri": "https://localhost:8080/"
        },
        "id": "PBW0xBzNAI6X",
        "outputId": "c7de9c50-e545-4448-e785-1f4a2b388622"
      },
      "execution_count": null,
      "outputs": [
        {
          "output_type": "stream",
          "name": "stdout",
          "text": [
            "-1\n"
          ]
        }
      ]
    },
    {
      "cell_type": "code",
      "source": [
        "def bs(a,l,r,k):\n",
        "  if l>r:\n",
        "    return -1\n",
        "  m = (l + r) // 2\n",
        "\n",
        "  if a[m]==k:\n",
        "    return m\n",
        "  elif a[m]>k:\n",
        "    return bs(a,l,m-1,k)\n",
        "  else:\n",
        "    return bs(a,m+1,r,k)\n",
        "a=[12,34,53,13,45]\n",
        "a.sort()\n",
        "k=90\n",
        "print(bs(a,0,len(a)-1,k))"
      ],
      "metadata": {
        "colab": {
          "base_uri": "https://localhost:8080/"
        },
        "id": "t0EPpx1uGe-r",
        "outputId": "7f651106-7fb9-4089-83bc-e29c04f8054b"
      },
      "execution_count": null,
      "outputs": [
        {
          "output_type": "stream",
          "name": "stdout",
          "text": [
            "-1\n"
          ]
        }
      ]
    },
    {
      "cell_type": "code",
      "source": [
        "#interpolation search alo more suitable for uniform intervals data\n",
        "def bs(a,l,h,k):\n",
        "  if l > h or k < a[l] or k > a[h]:\n",
        "    return -1\n",
        "  m = l+((h-l)*(k-a[l]))//(a[h]-a[l])\n",
        "  if a[m]==k:\n",
        "    return m\n",
        "  elif a[m]>k:\n",
        "    return bs(a,l,m-1,k)\n",
        "  else:\n",
        "    return bs(a,m+1,h,k)\n",
        "a=[12,34,53,13,45]\n",
        "a.sort()\n",
        "k=13\n",
        "print(bs(a,0,len(a)-1,k))"
      ],
      "metadata": {
        "colab": {
          "base_uri": "https://localhost:8080/"
        },
        "id": "y5tDtjDsM5rb",
        "outputId": "7272d110-c07c-4d49-def5-527dfc27fb5e"
      },
      "execution_count": null,
      "outputs": [
        {
          "output_type": "stream",
          "name": "stdout",
          "text": [
            "1\n"
          ]
        }
      ]
    },
    {
      "cell_type": "code",
      "source": [
        "#exponential search algm\n",
        "def bs(a,l,r,k):\n",
        "  if l>r:\n",
        "    return -1\n",
        "  m = (l + r) // 2\n",
        "\n",
        "  if a[m]==k:\n",
        "    return m\n",
        "  elif a[m]>k:\n",
        "    return bs(a,l,m-1,k)\n",
        "  else:\n",
        "    return bs(a,m+1,r,k)\n",
        "def es(a,n,k):\n",
        "  if a[0] == k:\n",
        "    return 0\n",
        "  i = 1\n",
        "  while i < n and a[i] <= k:\n",
        "    i = i * 2\n",
        "  return bs(a,i//2,min(i, n-1),k)\n",
        "a=[12,34,53,13,45]\n",
        "a.sort()\n",
        "k=12\n",
        "print(bs(a,0,len(a)-1,k))"
      ],
      "metadata": {
        "colab": {
          "base_uri": "https://localhost:8080/"
        },
        "id": "MXizii2aU3P9",
        "outputId": "2cf90588-20ae-4847-bdba-95070798e7c3"
      },
      "execution_count": null,
      "outputs": [
        {
          "output_type": "stream",
          "name": "stdout",
          "text": [
            "0\n"
          ]
        }
      ]
    },
    {
      "cell_type": "code",
      "source": [
        "def binary_search(a, l, r, k):\n",
        "    while l <= r:\n",
        "        m = (l + r) // 2\n",
        "        if a[m] == k:\n",
        "            return m\n",
        "        elif a[m] < k:\n",
        "            l = m + 1\n",
        "        else:\n",
        "            r = m - 1\n",
        "    return -1\n",
        "\n",
        "def exponential_search(a, n, k):\n",
        "    if a[0] == k:\n",
        "        return 0\n",
        "    i = 1\n",
        "    while i < n and a[i] <= k:\n",
        "        i *= 2\n",
        "    return binary_search(a, i // 2, min(i, n - 1), k)\n",
        "\n",
        "# Example usage\n",
        "a = [12, 34, 53, 13, 45]\n",
        "a.sort()  # [12, 13, 34, 45, 53]\n",
        "k = 12\n",
        "print(exponential_search(a, len(a), k))  # Output: 0\n"
      ],
      "metadata": {
        "colab": {
          "base_uri": "https://localhost:8080/"
        },
        "id": "7DgRLcD0bhUB",
        "outputId": "5fcd284d-6921-40f1-edec-2555c9798008"
      },
      "execution_count": null,
      "outputs": [
        {
          "output_type": "stream",
          "name": "stdout",
          "text": [
            "0\n"
          ]
        }
      ]
    },
    {
      "cell_type": "code",
      "source": [
        "#search index position if key is found return index else return index that the element should be inserted\n",
        "def sip(a,k):\n",
        "  l=0\n",
        "  h=len(a)-1\n",
        "  while l<=h:\n",
        "    m=(l+h)//2\n",
        "    if a[m]==k: return m\n",
        "    elif a[m]<k: l=m+1\n",
        "    else: r=m-1\n",
        "  return l\n",
        "a=[12,34,53,13,45]\n",
        "a.sort()\n",
        "k=128\n",
        "print(sip(a,k))"
      ],
      "metadata": {
        "colab": {
          "base_uri": "https://localhost:8080/"
        },
        "id": "lGWF9GfJbjhG",
        "outputId": "bef8162f-74f8-4ba1-e2ee-32b41d2a1f5c"
      },
      "execution_count": null,
      "outputs": [
        {
          "output_type": "stream",
          "name": "stdout",
          "text": [
            "5\n"
          ]
        }
      ]
    },
    {
      "cell_type": "code",
      "source": [
        "#square\n",
        "def sqrt(k):\n",
        "  l=0\n",
        "  h=k\n",
        "  ans=-1\n",
        "  while l<=h:\n",
        "    m=(l+h)//2\n",
        "    if m*m==k:\n",
        "      return m\n",
        "    elif m*m<k:\n",
        "      l=m+1\n",
        "    else:\n",
        "      h=m-1\n",
        "  return h\n",
        "k=225\n",
        "print(sqrt(k))"
      ],
      "metadata": {
        "colab": {
          "base_uri": "https://localhost:8080/"
        },
        "id": "XjAw52EiDLqQ",
        "outputId": "ecb721c9-b1b5-46bf-c2b4-aa24a3953c6c"
      },
      "execution_count": null,
      "outputs": [
        {
          "output_type": "stream",
          "name": "stdout",
          "text": [
            "15\n"
          ]
        }
      ]
    },
    {
      "cell_type": "code",
      "source": [
        "#smallest letter greater than target\n",
        "def sol(a,k):\n",
        "  l=0\n",
        "  h=len(a)-1\n",
        "  while l<=h:\n",
        "    m=(l+h)//2\n",
        "    if a[m]<=k:\n",
        "      l=m+1\n",
        "    else:\n",
        "      r=m-1\n",
        "  return a[l%len(a)]\n",
        "a=list(map(str,input().split()))\n",
        "k=input()\n",
        "print(sol(a,k))"
      ],
      "metadata": {
        "id": "t93GOf7sN6EX"
      },
      "execution_count": null,
      "outputs": []
    },
    {
      "cell_type": "code",
      "source": [
        "#bubble sort\n",
        "nums=[65,43,32,12,72,1]\n",
        "n=len(nums)\n",
        "for i in range(n):\n",
        "  for j in range(n-i-1):\n",
        "    if nums[j]>nums[j+1]:\n",
        "      nums[j],nums[j+1]=nums[j+1],nums[j]\n",
        "      s=True\n",
        "  if s==False:\n",
        "    break\n",
        "print(nums)"
      ],
      "metadata": {
        "id": "axUqmj93Qy0C",
        "colab": {
          "base_uri": "https://localhost:8080/"
        },
        "outputId": "793db3f6-2ee4-4da1-f3e4-7a594911e9ce"
      },
      "execution_count": null,
      "outputs": [
        {
          "output_type": "stream",
          "name": "stdout",
          "text": [
            "[1, 12, 32, 43, 65, 72]\n"
          ]
        }
      ]
    },
    {
      "cell_type": "code",
      "source": [
        "#quick sort\n",
        "def quicksort(a, low, high):\n",
        "    if low < high:\n",
        "        pi = partition(a, low, high)\n",
        "        quicksort(a, low, pi - 1)\n",
        "        quicksort(a, pi + 1, high)\n",
        "\n",
        "def partition(a, low, high):\n",
        "    pivot = a[high]\n",
        "    i = low - 1\n",
        "    for j in range(low, high):\n",
        "        if a[j] <= pivot:\n",
        "            i += 1\n",
        "\n",
        "            a[i], a[j] = a[j], a[i]\n",
        "    a[i + 1], a[high] = a[high], a[i + 1]\n",
        "    return i + 1\n",
        "\n",
        "a = [5, 1, 4, 8, 2]\n",
        "quicksort(a, 0, len(a) - 1)\n",
        "print(a)"
      ],
      "metadata": {
        "colab": {
          "base_uri": "https://localhost:8080/"
        },
        "id": "wKIAm8GAr1Vn",
        "outputId": "beca43b0-fc9b-4350-a104-73dd65790d50"
      },
      "execution_count": null,
      "outputs": [
        {
          "output_type": "stream",
          "name": "stdout",
          "text": [
            "[1, 2, 4, 5, 8]\n"
          ]
        }
      ]
    },
    {
      "cell_type": "code",
      "source": [
        "#merge sort\n"
      ],
      "metadata": {
        "id": "slg8BXXM151G"
      },
      "execution_count": null,
      "outputs": []
    },
    {
      "cell_type": "code",
      "source": [
        "#bucket sort\n",
        "def bucket(a):\n",
        "  if len(a)==0:\n",
        "    return a\n",
        "  bc,maxv,minv=10,max(a),min(a)\n",
        "  br=(maxv-minv)/bc\n",
        "  bk=[[] for i in range(bc)]\n",
        "  for num in a:\n",
        "    index=int((num-minv)/br)\n",
        "    if index==bc:\n",
        "      index-=1\n",
        "    bk[index].append(num)\n",
        "  sorted_array = []\n",
        "  for bucket in bk:\n",
        "    sorted_array.extend(sorted(bucket))\n",
        "  return sorted_array\n",
        "a=[0.12,0.61,0.24,0.08]\n",
        "print(bucket(a))"
      ],
      "metadata": {
        "colab": {
          "base_uri": "https://localhost:8080/"
        },
        "id": "GLSWC-39J5UL",
        "outputId": "308b1060-c4cb-4544-f0ff-6ac0d583f1b5"
      },
      "execution_count": null,
      "outputs": [
        {
          "output_type": "stream",
          "name": "stdout",
          "text": [
            "[0.08, 0.12, 0.24, 0.61]\n"
          ]
        }
      ]
    },
    {
      "cell_type": "code",
      "source": [
        "#contains duplicates\n",
        "def cd(num):\n",
        "  for i in range(len(num)-2):\n",
        "    if num[i]==num[i+1]:\n",
        "      return True\n",
        "  return False\n",
        "num=[]\n",
        "num.sort()\n"
      ],
      "metadata": {
        "id": "f2Smx4bVPBW6"
      },
      "execution_count": null,
      "outputs": []
    },
    {
      "cell_type": "code",
      "source": [
        "#square\n",
        "def sqrt(k):\n",
        "  l=0\n",
        "  h=k\n",
        "  ans=-1\n",
        "  while l<=h:\n",
        "    m=(l+h)//2\n",
        "    if m*m==k:\n",
        "      return m\n",
        "    elif m*m<k:\n",
        "      l=m+1\n",
        "    else:\n",
        "      h=m-1\n",
        "  return h\n",
        "k=225\n",
        "print(sqrt(k))"
      ],
      "metadata": {
        "id": "6GbQxkDcdZe3"
      },
      "execution_count": null,
      "outputs": []
    },
    {
      "cell_type": "markdown",
      "source": [
        "# Binary Search Tree"
      ],
      "metadata": {
        "id": "bbyrbbtvv1R0"
      }
    },
    {
      "cell_type": "code",
      "source": [
        "class Node:\n",
        "  def __init__(self,data):\n",
        "    self.data=data\n",
        "    self.left=None\n",
        "    self.right=None\n",
        "class binarySearch(Node):\n",
        "  def __init__(self):\n",
        "    self.root=None\n",
        "\n",
        "  def insert(self,key):\n",
        "    self.root=self.inserte(self.root,key)\n",
        "\n",
        "  def inserte(self,node,key):\n",
        "    if node is None:\n",
        "      return Node(key)\n",
        "    if key<node.data:\n",
        "      node.left = self.inserte(node.left, key)\n",
        "    else:\n",
        "      node.right = self.inserte(node.right, key)\n",
        "    return node\n",
        "\n",
        "  def inorder(self):\n",
        "    self.printinorder(self.root)\n",
        "\n",
        "  def printinorder(self,node):\n",
        "    if node is None:\n",
        "      return\n",
        "    self.printinorder(node.left)\n",
        "    print(node.data,end=\" \")\n",
        "    self.printinorder(node.right)\n",
        "bs=binarySearch()\n",
        "l=list(map(int,input().split()))\n",
        "for i in l:\n",
        "  bs.insert(i)\n",
        "bs.inorder()"
      ],
      "metadata": {
        "colab": {
          "base_uri": "https://localhost:8080/"
        },
        "id": "xYpXQUyzvzXZ",
        "outputId": "61c30e63-6289-4a56-f5b1-7d6007af185a"
      },
      "execution_count": null,
      "outputs": [
        {
          "output_type": "stream",
          "name": "stdout",
          "text": [
            "4 2 2 7 1 3\n",
            "1 2 2 3 4 7 "
          ]
        }
      ]
    },
    {
      "cell_type": "markdown",
      "source": [
        "# GRAPHS"
      ],
      "metadata": {
        "id": "m5QcSptJDp2g"
      }
    },
    {
      "cell_type": "code",
      "source": [
        "edges=[\n",
        "  ('A','B'),\n",
        "  (\"A\",\"C\"),\n",
        "  (\"B\",\"D\"),\n",
        "  (\"c\",\"D\"),\n",
        "  (\"D\",\"E\"),\n",
        "  (\"D\",\"D\")\n",
        "]\n",
        "graph={}\n",
        "for u,v in edges:\n",
        "  if u==v:\n",
        "    graph[v].append(u)\n",
        "    break\n",
        "  if u not in graph:\n",
        "    graph[u]=[]\n",
        "  if v not in graph:\n",
        "    graph[v]=[]\n",
        "  graph[u].append(v)\n",
        "  # graph[v].append(u)\n",
        "for node in graph:\n",
        "  print(node,\":\",graph[node])"
      ],
      "metadata": {
        "id": "2FfCJtr23wC4",
        "colab": {
          "base_uri": "https://localhost:8080/"
        },
        "outputId": "cac8ebe8-5990-41d4-87dc-606f9e5a388d"
      },
      "execution_count": null,
      "outputs": [
        {
          "output_type": "stream",
          "name": "stdout",
          "text": [
            "A : ['B', 'C']\n",
            "B : ['D']\n",
            "C : []\n",
            "D : ['E', 'D']\n",
            "c : ['D']\n",
            "E : []\n"
          ]
        }
      ]
    },
    {
      "cell_type": "code",
      "source": [
        "#matrix\n",
        "edges=[\n",
        "  ('A','B'),\n",
        "  (\"A\",\"C\"),\n",
        "  (\"B\",\"D\"),\n",
        "  (\"c\",\"D\"),\n",
        "  (\"D\",\"E\"),\n",
        "]\n",
        "nodes=sorted({node for edge in edges for node in edge})\n",
        "idx={node: i for i,node in enumerate(nodes)}\n",
        "size=len(nodes)\n",
        "adj=[[0]*size for i in range(size)]\n",
        "for u,v in edges:\n",
        "  i=idx[u]\n",
        "  j=idx[v]\n",
        "  adj[i][j]=1\n",
        "print(\"Nodes:\",nodes)\n",
        "print(\"Adjacency matrix\")\n",
        "for row in adj:\n",
        "  print(row)"
      ],
      "metadata": {
        "colab": {
          "base_uri": "https://localhost:8080/"
        },
        "id": "JnMxHEw4NR_t",
        "outputId": "20b4ea83-32c4-43e5-a96e-84c91e440e12"
      },
      "execution_count": null,
      "outputs": [
        {
          "output_type": "stream",
          "name": "stdout",
          "text": [
            "Nodes: ['A', 'B', 'C', 'D', 'E', 'c']\n",
            "Adjacency matrix\n",
            "[0, 1, 1, 0, 0, 0]\n",
            "[0, 0, 0, 1, 0, 0]\n",
            "[0, 0, 0, 0, 0, 0]\n",
            "[0, 0, 0, 0, 1, 0]\n",
            "[0, 0, 0, 0, 0, 0]\n",
            "[0, 0, 0, 1, 0, 0]\n"
          ]
        }
      ]
    },
    {
      "cell_type": "code",
      "source": [
        "# edges=[\n",
        "#   ('A','B'),\n",
        "#   (\"A\",\"C\"),\n",
        "#   (\"B\",\"D\"),\n",
        "#   (\"c\",\"D\"),\n",
        "#   (\"D\",\"E\"),\n",
        "# ]\n",
        "# nodes=sorted({node for edge in edges for node in edge})\n",
        "# idx={node: i for i,node in enumerate(nodes)}\n",
        "# size=len(nodes)\n",
        "# adj=[[0]*size for i in range(size)]\n",
        "def cim(vertices,edges):\n",
        "  v=len(vertices)\n",
        "  e=len(edges)\n",
        "  incidence_matrix=[[0]*e for i in range(v)]\n",
        "  vertex_index={v: i for i,v in enumerate(vertices)}\n",
        "  for ed,(u,v) in enumerate(edges):\n",
        "    incidence_matrix[vertex]"
      ],
      "metadata": {
        "id": "9x6CqGGwgoAP"
      },
      "execution_count": null,
      "outputs": []
    },
    {
      "cell_type": "code",
      "source": [
        "graph={\n",
        "    'A':['B','C'],\n",
        "    'B':['D','E'],\n",
        "    'C':['F'],\n",
        "    'D':[],\n",
        "    'E':['F'],\n",
        "    'F':[]\n",
        "}\n",
        "def dfs(graph,start,visited=None):\n",
        "    if visited is None:\n",
        "        visited=set()\n",
        "    visited.add(start)\n",
        "    print(start,end=\" \")\n",
        "    for neighbor in graph[start]:\n",
        "      if neighbor not in visited:\n",
        "        dfs(graph,neighbor,visited)\n",
        "print(\"DFS Traversal\")\n",
        "dfs(graph,'A')"
      ],
      "metadata": {
        "id": "suov9qZOMuWL",
        "colab": {
          "base_uri": "https://localhost:8080/"
        },
        "outputId": "2cdcf956-45db-48d8-ec21-a35fbc70f5c2"
      },
      "execution_count": null,
      "outputs": [
        {
          "output_type": "stream",
          "name": "stdout",
          "text": [
            "DFS Traversal\n",
            "A B D E F C "
          ]
        }
      ]
    },
    {
      "cell_type": "code",
      "source": [
        "from itertools import permutations\n",
        "\n",
        "def dfs(graph, current, visited, path, result):\n",
        "    visited.add(current)\n",
        "    path.append(current)\n",
        "\n",
        "    if len(visited) == len(graph):\n",
        "        result.append(path[:])\n",
        "    else:\n",
        "        neighbors = [n for n in graph[current] if n not in visited]\n",
        "        for perm in permutations(neighbors):\n",
        "            for neighbor in perm:\n",
        "                dfs(graph, neighbor, visited, path, result)\n",
        "\n",
        "    path.pop()\n",
        "    visited.remove(current)\n",
        "\n",
        "# Graph definition (undirected)\n",
        "graph={\n",
        "    'A':['C','B'],\n",
        "    'B':['D','E'],\n",
        "    'C':['F'],\n",
        "    'D':[],\n",
        "    'E':['F'],\n",
        "    'F':[]\n",
        "}\n",
        "\n",
        "# Set to collect all unique DFS traversals\n",
        "all_traversals = set()\n",
        "\n",
        "# Start DFS from every node\n",
        "for start_node in graph:\n",
        "    result = []\n",
        "    dfs(graph, start_node, set(), [], result)\n",
        "    for path in result:\n",
        "        all_traversals.add(tuple(path))  # use tuple to make it hashable\n",
        "\n",
        "# Print all unique DFS traversals\n",
        "for i, path in enumerate(sorted(all_traversals), 1):\n",
        "    print(f\"{i}: {' -> '.join(path)}\")\n"
      ],
      "metadata": {
        "id": "uFJ2oQdfNCvC"
      },
      "execution_count": null,
      "outputs": []
    },
    {
      "cell_type": "code",
      "source": [
        "from itertools import permutations\n",
        "\n",
        "def dfs(graph, current, visited, path, result):\n",
        "    visited.add(current)\n",
        "    path.append(current)\n",
        "\n",
        "    if len(visited) == len(graph):\n",
        "        result.append(path[:])\n",
        "    else:\n",
        "        neighbors = [n for n in graph[current] if n not in visited]\n",
        "        for perm in permutations(neighbors):\n",
        "            for neighbor in perm:\n",
        "                dfs(graph, neighbor, visited, path, result)\n",
        "            break  # 🔴 break to ensure only one permutation per recursive level\n",
        "\n",
        "    path.pop()\n",
        "    visited.remove(current)\n",
        "\n",
        "# Graph definition (undirected)\n",
        "graph = {\n",
        "    'A': ['C', 'B'],\n",
        "    'B': ['D', 'E'],\n",
        "    'C': ['F'],\n",
        "    'D': [],\n",
        "    'E': ['F'],\n",
        "    'F': []\n",
        "}\n",
        "\n",
        "# Set to collect all unique DFS traversals\n",
        "all_traversals = set()\n",
        "\n",
        "# Start DFS from every node\n",
        "for start_node in graph:\n",
        "    result = []\n",
        "    dfs(graph, start_node, set(), [], result)\n",
        "    for path in result:\n",
        "        all_traversals.add(tuple(path))\n",
        "\n",
        "# Print all unique DFS traversals\n",
        "for i, path in enumerate(sorted(all_traversals), 1):\n",
        "    print(f\"{i}: {' -> '.join(path)}\")\n"
      ],
      "metadata": {
        "id": "BuNhgmuDazxQ"
      },
      "execution_count": null,
      "outputs": []
    },
    {
      "cell_type": "code",
      "source": [
        "from itertools import permutations\n",
        "\n",
        "def dfs(graph, current, visited, path, result):\n",
        "    visited.add(current)\n",
        "    path.append(current)\n",
        "\n",
        "    result.append(path[:])  # Save all partial paths\n",
        "\n",
        "    neighbors = [n for n in graph[current] if n not in visited]\n",
        "    for perm in permutations(neighbors):\n",
        "        for neighbor in perm:\n",
        "            dfs(graph, neighbor, visited, path, result)\n",
        "\n",
        "    path.pop()\n",
        "    visited.remove(current)\n",
        "\n",
        "# Graph definition\n",
        "graph = {\n",
        "    'A': ['C', 'B'],\n",
        "    'B': ['D', 'E'],\n",
        "    'C': ['F'],\n",
        "    'D': [],\n",
        "    'E': ['F'],\n",
        "    'F': []\n",
        "}\n",
        "\n",
        "all_traversals = set()\n",
        "\n",
        "for start_node in graph:\n",
        "    result = []\n",
        "    dfs(graph, start_node, set(), [], result)\n",
        "    for path in result:\n",
        "        all_traversals.add(tuple(path))\n",
        "\n",
        "for i, path in enumerate(sorted(all_traversals), 1):\n",
        "    print(f\"{i}: {' -> '.join(path)}\")\n"
      ],
      "metadata": {
        "colab": {
          "base_uri": "https://localhost:8080/"
        },
        "id": "xN3X0f0FbM9q",
        "outputId": "b396aa93-c9ba-477b-d446-55a78671f6af"
      },
      "execution_count": null,
      "outputs": [
        {
          "output_type": "stream",
          "name": "stdout",
          "text": [
            "1: A\n",
            "2: A -> B\n",
            "3: A -> B -> D\n",
            "4: A -> B -> E\n",
            "5: A -> B -> E -> F\n",
            "6: A -> C\n",
            "7: A -> C -> F\n",
            "8: B\n",
            "9: B -> D\n",
            "10: B -> E\n",
            "11: B -> E -> F\n",
            "12: C\n",
            "13: C -> F\n",
            "14: D\n",
            "15: E\n",
            "16: E -> F\n",
            "17: F\n"
          ]
        }
      ]
    },
    {
      "cell_type": "markdown",
      "source": [
        "leetcode\n"
      ],
      "metadata": {
        "id": "uAvRfDd38Pz9"
      }
    },
    {
      "cell_type": "code",
      "source": [
        "class Solution(object):3337\n",
        "    mod = 10**9 + 7\n",
        "\n",
        "    def multiplyMatrices(self, A, B):\n",
        "        rowsA, colsA, colsB = len(A), len(A[0]), len(B[0])\n",
        "        result = [[0]*colsB for _ in range(rowsA)]\n",
        "        for i in range(rowsA):\n",
        "            for j in range(colsB):\n",
        "                tmp = 0\n",
        "                for k in range(colsA):\n",
        "                    tmp += A[i][k] * B[k][j]\n",
        "                result[i][j] = tmp % self.mod\n",
        "        return result\n",
        "\n",
        "    def powerMatrix(self, matrix, exponent):\n",
        "        n = len(matrix)\n",
        "        result = [[1 if i==j else 0 for j in range(n)] for i in range(n)]\n",
        "        while exponent > 0:\n",
        "            if exponent & 1:\n",
        "                result = self.multiplyMatrices(result, matrix)\n",
        "            matrix = self.multiplyMatrices(matrix, matrix)\n",
        "            exponent >>= 1\n",
        "        return result\n",
        "\n",
        "    def lengthAfterTransformations(self, s, t, nums):\n",
        "        transform = [[0]*26 for _ in range(26)]\n",
        "        for i in range(26):\n",
        "            for shift in range(nums[i]):\n",
        "                transform[i][(i + 1 + shift) % 26] += 1\n",
        "        transform = self.powerMatrix(transform, t)\n",
        "        freq = [[0]*26]\n",
        "        for ch in s:\n",
        "            freq[0][ord(ch) - ord('a')] += 1\n",
        "        freq = self.multiplyMatrices(freq, transform)\n",
        "        return sum(freq[0]) % self.mod"
      ],
      "metadata": {
        "id": "P0Y2ZZFs8Sle"
      },
      "execution_count": null,
      "outputs": []
    }
  ]
}